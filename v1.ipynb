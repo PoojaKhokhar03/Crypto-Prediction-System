{
 "cells": [
  {
   "cell_type": "code",
   "execution_count": 1,
   "metadata": {},
   "outputs": [],
   "source": [
    "import os\n",
    "import glob\n",
    "import tweepy as tw\n",
    "import pandas as pd\n",
    "import csv\n",
    "import datetime\n",
    "from sklearn.feature_extraction.text import CountVectorizer\n",
    "from sklearn.feature_extraction import text\n",
    "now=datetime.datetime.now()\n",
    "from sklearn.linear_model import LogisticRegression\n",
    "from sklearn.model_selection import GridSearchCV\n",
    "import pickle\n",
    "import matplotlib.pyplot as plt\n",
    "from tqdm.notebook import tqdm\n",
    "tqdm.pandas()\n",
    "from datetime import date"
   ]
  },
  {
   "cell_type": "code",
   "execution_count": 3,
   "metadata": {},
   "outputs": [],
   "source": [
    "#Twitter API credentials\n",
    "consumer_key= 'YJq3Ac19HgOmtiMf8inOZ635i'\n",
    "consumer_secret= 'hF8sb68coDs5jUl9faBOKrqwD9sX7xQOjZKuRBsLR6bfK2cMZ1'\n",
    "access_token= '1378862658-Ku7f43oWVS5EbENVlWR8BlzUeQSng2UZNVLAPBk'\n",
    "access_token_secret= 'XBfcrAU3SFOwPn3pa7gP8mhdhJiux44MEvpDM2EuewYXN'\n",
    "\n",
    "auth = tw.OAuthHandler(consumer_key, consumer_secret)\n",
    "auth.set_access_token(access_token, access_token_secret)\n",
    "api = tw.API(auth, wait_on_rate_limit=True)"
   ]
  },
  {
   "cell_type": "markdown",
   "metadata": {},
   "source": [
    "# Fetch bitcoin data"
   ]
  },
  {
   "cell_type": "code",
   "execution_count": 3,
   "metadata": {},
   "outputs": [],
   "source": [
    "# Define the search term and the date_since date as variables\n",
    "search_words = \"#bitcoin -filter:retweets\"\n",
    "# search_words = \"JnJ+vaccine\"\n",
    "date_since = date.today()\n",
    "\n",
    "# Collect tweets\n",
    "tweets = tw.Cursor(api.search,\n",
    "                   q=search_words,\n",
    "                   lang=\"en\",\n",
    "                   since=date_since).items(1000)\n",
    "\n",
    "# Collect a list of tweets\n",
    "tweet_list = [{\"id\" : tweet.id, \n",
    "               \"user_name\" : tweet.user.name,\n",
    "               \"user_location\" : tweet.user.location,\n",
    "               \"user_description\" : tweet.user.description,\n",
    "               \"user_created\" : tweet.user.created_at,\n",
    "               \"user_followers\" : tweet.user.followers_count,\n",
    "               \"user_friends\" : tweet.user.friends_count,\n",
    "               \"user_favourites\" : tweet.user.favourites_count,\n",
    "               \"user_verified\" : tweet.user.verified,\n",
    "               \"date\" : tweet.created_at,\n",
    "               \"text\" : tweet.text,\n",
    "               \"hashtags\" : tweet.entities[\"hashtags\"],\n",
    "               \"source\" : tweet.source,\n",
    "               \"retweets\" : tweet.retweet_count,\n",
    "               \"favorites\" : tweet.favorite_count,\n",
    "               \"is_retweet\" : tweet.retweeted} for tweet in tweets]\n",
    "\n",
    "outtweets = pd.DataFrame(tweet_list)\n",
    "\n",
    "outtweets.to_csv(\"bitcoin_tweets_\"+ str(now.date()) +\".csv\",encoding='utf-8', index=False)"
   ]
  },
  {
   "cell_type": "markdown",
   "metadata": {},
   "source": [
    "# Fetch ethereum data"
   ]
  },
  {
   "cell_type": "code",
   "execution_count": 4,
   "metadata": {},
   "outputs": [],
   "source": [
    "# Define the search term and the date_since date as variables\n",
    "search_words = \"#ethereum -filter:retweets\"\n",
    "# search_words = \"JnJ+vaccine\"\n",
    "date_since = date.today()\n",
    "\n",
    "# Collect tweets\n",
    "tweets = tw.Cursor(api.search,\n",
    "                   q=search_words,\n",
    "                   lang=\"en\",\n",
    "                   since=date_since).items(1000)\n",
    "\n",
    "# Collect a list of tweets\n",
    "tweet_list = [{\"id\" : tweet.id, \n",
    "               \"user_name\" : tweet.user.name,\n",
    "               \"user_location\" : tweet.user.location,\n",
    "               \"user_description\" : tweet.user.description,\n",
    "               \"user_created\" : tweet.user.created_at,\n",
    "               \"user_followers\" : tweet.user.followers_count,\n",
    "               \"user_friends\" : tweet.user.friends_count,\n",
    "               \"user_favourites\" : tweet.user.favourites_count,\n",
    "               \"user_verified\" : tweet.user.verified,\n",
    "               \"date\" : tweet.created_at,\n",
    "               \"text\" : tweet.text,\n",
    "               \"hashtags\" : tweet.entities[\"hashtags\"],\n",
    "               \"source\" : tweet.source,\n",
    "               \"retweets\" : tweet.retweet_count,\n",
    "               \"favorites\" : tweet.favorite_count,\n",
    "               \"is_retweet\" : tweet.retweeted} for tweet in tweets]\n",
    "\n",
    "outtweets = pd.DataFrame(tweet_list)\n",
    "\n",
    "outtweets.to_csv(\"ethereum_tweets_\"+ str(now.date()) +\".csv\",encoding='utf-8', index=False)"
   ]
  },
  {
   "cell_type": "markdown",
   "metadata": {},
   "source": [
    "# Fetch Doge data"
   ]
  },
  {
   "cell_type": "code",
   "execution_count": 5,
   "metadata": {},
   "outputs": [],
   "source": [
    "# Define the search term and the date_since date as variables\n",
    "search_words = \"#doge -filter:retweets\"\n",
    "date_since = date.today()\n",
    "\n",
    "# Collect tweets\n",
    "tweets = tw.Cursor(api.search,\n",
    "                   q=search_words,\n",
    "                   lang=\"en\",\n",
    "                   since=date_since).items(1000)\n",
    "\n",
    "# Collect a list of tweets\n",
    "tweet_list = [{\"id\" : tweet.id, \n",
    "               \"user_name\" : tweet.user.name,\n",
    "               \"user_location\" : tweet.user.location,\n",
    "               \"user_description\" : tweet.user.description,\n",
    "               \"user_created\" : tweet.user.created_at,\n",
    "               \"user_followers\" : tweet.user.followers_count,\n",
    "               \"user_friends\" : tweet.user.friends_count,\n",
    "               \"user_favourites\" : tweet.user.favourites_count,\n",
    "               \"user_verified\" : tweet.user.verified,\n",
    "               \"date\" : tweet.created_at,\n",
    "               \"text\" : tweet.text,\n",
    "               \"hashtags\" : tweet.entities[\"hashtags\"],\n",
    "               \"source\" : tweet.source,\n",
    "               \"retweets\" : tweet.retweet_count,\n",
    "               \"favorites\" : tweet.favorite_count,\n",
    "               \"is_retweet\" : tweet.retweeted} for tweet in tweets]\n",
    "\n",
    "outtweets = pd.DataFrame(tweet_list)\n",
    "\n",
    "outtweets.to_csv(\"doge_tweets_\"+ str(now.date()) +\".csv\",encoding='utf-8', index=False)"
   ]
  },
  {
   "cell_type": "markdown",
   "metadata": {},
   "source": [
    "# Fetch shiba inu"
   ]
  },
  {
   "cell_type": "code",
   "execution_count": 6,
   "metadata": {},
   "outputs": [],
   "source": [
    "# Define the search term and the date_since date as variables\n",
    "search_words = \"#shib -filter:retweets\"\n",
    "date_since = date.today()\n",
    "\n",
    "# Collect tweets\n",
    "tweets = tw.Cursor(api.search,\n",
    "                   q=search_words,\n",
    "                   lang=\"en\",\n",
    "                   since=date_since).items(1000)\n",
    "\n",
    "# Collect a list of tweets\n",
    "tweet_list = [{\"id\" : tweet.id, \n",
    "               \"user_name\" : tweet.user.name,\n",
    "               \"user_location\" : tweet.user.location,\n",
    "               \"user_description\" : tweet.user.description,\n",
    "               \"user_created\" : tweet.user.created_at,\n",
    "               \"user_followers\" : tweet.user.followers_count,\n",
    "               \"user_friends\" : tweet.user.friends_count,\n",
    "               \"user_favourites\" : tweet.user.favourites_count,\n",
    "               \"user_verified\" : tweet.user.verified,\n",
    "               \"date\" : tweet.created_at,\n",
    "               \"text\" : tweet.text,\n",
    "               \"hashtags\" : tweet.entities[\"hashtags\"],\n",
    "               \"source\" : tweet.source,\n",
    "               \"retweets\" : tweet.retweet_count,\n",
    "               \"favorites\" : tweet.favorite_count,\n",
    "               \"is_retweet\" : tweet.retweeted} for tweet in tweets]\n",
    "\n",
    "outtweets = pd.DataFrame(tweet_list)\n",
    "\n",
    "outtweets.to_csv(\"shib_tweets_\"+ str(now.date()) +\".csv\",encoding='utf-8', index=False)"
   ]
  },
  {
   "cell_type": "code",
   "execution_count": null,
   "metadata": {},
   "outputs": [],
   "source": []
  }
 ],
 "metadata": {
  "interpreter": {
   "hash": "e588a23f49329b9290dda077d79a9005879a30fe97c1fa2c6a93e79fd5926943"
  },
  "kernelspec": {
   "display_name": "Python 3.8.7 64-bit",
   "language": "python",
   "name": "python3"
  },
  "language_info": {
   "codemirror_mode": {
    "name": "ipython",
    "version": 3
   },
   "file_extension": ".py",
   "mimetype": "text/x-python",
   "name": "python",
   "nbconvert_exporter": "python",
   "pygments_lexer": "ipython3",
   "version": "3.8.7"
  },
  "orig_nbformat": 4
 },
 "nbformat": 4,
 "nbformat_minor": 2
}
